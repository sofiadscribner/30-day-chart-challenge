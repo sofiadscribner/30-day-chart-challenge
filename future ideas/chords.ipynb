{
 "cells": [
  {
   "cell_type": "code",
   "execution_count": 6,
   "metadata": {},
   "outputs": [],
   "source": [
    "import pandas as pd\n",
    "import matplotlib.pyplot as plt\n",
    "import seaborn as sns\n",
    "import re"
   ]
  },
  {
   "cell_type": "code",
   "execution_count": null,
   "metadata": {},
   "outputs": [],
   "source": [
    "df = pd.read_csv(\"hf://datasets/ailsntua/Chordonomicon/chordonomicon_v2.csv\")"
   ]
  },
  {
   "cell_type": "code",
   "execution_count": null,
   "metadata": {},
   "outputs": [
    {
     "name": "stdout",
     "output_type": "stream",
     "text": [
      "C F C E7 Amin C F C G7 C F C E7 Amin C F G7 C F C E7 Amin C F C G7 C F C E7 Amin C F G7 C F C F C G C F C E7 Amin C F G7 C D G D G D A D G D Fs7 Bmin D G A7 D G A7 D\n"
     ]
    }
   ],
   "source": [
    "# Remove <...> labels\n",
    "df['chords'] = df['chords'].str.replace(r\"<[^>]+>\", \"\", regex=True)\n",
    "\n",
    "# Clean up extra whitespace\n",
    "df['chords'] = df['chords'].str.replace(r\"\\s+\", \" \", regex=True).str.strip()\n",
    "\n"
   ]
  },
  {
   "cell_type": "code",
   "execution_count": 14,
   "metadata": {},
   "outputs": [],
   "source": [
    "df['distinct_chord_count'] = df['chords'].apply(lambda x: len(set(x.split())))"
   ]
  }
 ],
 "metadata": {
  "kernelspec": {
   "display_name": "sofs_env",
   "language": "python",
   "name": "python3"
  },
  "language_info": {
   "codemirror_mode": {
    "name": "ipython",
    "version": 3
   },
   "file_extension": ".py",
   "mimetype": "text/x-python",
   "name": "python",
   "nbconvert_exporter": "python",
   "pygments_lexer": "ipython3",
   "version": "3.12.8"
  }
 },
 "nbformat": 4,
 "nbformat_minor": 2
}
